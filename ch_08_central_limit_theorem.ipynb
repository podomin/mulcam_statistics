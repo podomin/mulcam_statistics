{
 "cells": [
  {
   "cell_type": "markdown",
   "id": "569fae56-2a0f-44d7-bfbd-1dffe06b5bc1",
   "metadata": {},
   "source": [
    "# ch8. 중심 극한 정리\n",
    "\n",
    "통계적 추론을 표본의 특징으로부터 모집단의 특징을 추론하는 것이라고 했습니다. 이 때 중요한 역할을 하는 것이 중심극한 정리입니다.\n",
    "\n",
    "모집단이 평균은 μ, 표준 편차는 σ^2를 따르는 임의의 분포일 때, 표본의 크기가 충분히 크다면 표본 평균의 분포는 평균이 μ, 분산은 σ^2/n인 정규분포를 따른다.\n",
    "\n",
    "$$\\bar{X}\\sim N(\\mu,\\frac{\\sigma^2}{n})$$"
   ]
  },
  {
   "cell_type": "markdown",
   "id": "523813a1-51b6-4950-aed1-0de5a64a1320",
   "metadata": {},
   "source": [
    "여기서 충분히 큰 표본의 크기는 보통 30을 잡습니다. 중심 극한 정리는 수학적으로 증명되었으나, 이는 너무 복잡하므로 직접 시뮬레이션을 돌려보면서 실제로 모집단의 분포와 관계 없이, 표본 평균의 분포가 정규분포를 이루는지 확인해보겠습니다."
   ]
  },
  {
   "cell_type": "code",
   "execution_count": 23,
   "id": "4d1a2c54-7afb-4baf-8293-f41a10e89ee8",
   "metadata": {
    "tags": []
   },
   "outputs": [],
   "source": [
    "# 중심 극한 정리 : 모집단의 분포를 모르고 & 모집단이 정규분포를 따르던지 안 따르던지 간에 표본 평균의 분포는 정규붙포를 따른다\n",
    "# 예) 샘플 표본 집단 30명을 뽑아서 평균 내는 걸 100번 반복해서 그래프를 그려보면 정규분포를 따른다는 것을 확인할 수 있음."
   ]
  },
  {
   "cell_type": "code",
   "execution_count": 1,
   "id": "61aa8880-181d-4e6b-8b01-9969018c2d2b",
   "metadata": {
    "tags": []
   },
   "outputs": [],
   "source": [
    "import pandas as pd\n",
    "\n",
    "df = pd.read_csv(\"./data/titanic_train.csv\")"
   ]
  },
  {
   "cell_type": "code",
   "execution_count": 2,
   "id": "e7c483d5-a21a-4f11-8a1d-c19ec17843e0",
   "metadata": {
    "tags": []
   },
   "outputs": [
    {
     "data": {
      "text/html": [
       "<div>\n",
       "<style scoped>\n",
       "    .dataframe tbody tr th:only-of-type {\n",
       "        vertical-align: middle;\n",
       "    }\n",
       "\n",
       "    .dataframe tbody tr th {\n",
       "        vertical-align: top;\n",
       "    }\n",
       "\n",
       "    .dataframe thead th {\n",
       "        text-align: right;\n",
       "    }\n",
       "</style>\n",
       "<table border=\"1\" class=\"dataframe\">\n",
       "  <thead>\n",
       "    <tr style=\"text-align: right;\">\n",
       "      <th></th>\n",
       "      <th>PassengerId</th>\n",
       "      <th>Survived</th>\n",
       "      <th>Pclass</th>\n",
       "      <th>Name</th>\n",
       "      <th>Sex</th>\n",
       "      <th>Age</th>\n",
       "      <th>SibSp</th>\n",
       "      <th>Parch</th>\n",
       "      <th>Ticket</th>\n",
       "      <th>Fare</th>\n",
       "      <th>Cabin</th>\n",
       "      <th>Embarked</th>\n",
       "    </tr>\n",
       "  </thead>\n",
       "  <tbody>\n",
       "    <tr>\n",
       "      <th>0</th>\n",
       "      <td>1</td>\n",
       "      <td>0</td>\n",
       "      <td>3</td>\n",
       "      <td>Braund, Mr. Owen Harris</td>\n",
       "      <td>male</td>\n",
       "      <td>22.0</td>\n",
       "      <td>1</td>\n",
       "      <td>0</td>\n",
       "      <td>A/5 21171</td>\n",
       "      <td>7.2500</td>\n",
       "      <td>NaN</td>\n",
       "      <td>S</td>\n",
       "    </tr>\n",
       "    <tr>\n",
       "      <th>1</th>\n",
       "      <td>2</td>\n",
       "      <td>1</td>\n",
       "      <td>1</td>\n",
       "      <td>Cumings, Mrs. John Bradley (Florence Briggs Th...</td>\n",
       "      <td>female</td>\n",
       "      <td>38.0</td>\n",
       "      <td>1</td>\n",
       "      <td>0</td>\n",
       "      <td>PC 17599</td>\n",
       "      <td>71.2833</td>\n",
       "      <td>C85</td>\n",
       "      <td>C</td>\n",
       "    </tr>\n",
       "    <tr>\n",
       "      <th>2</th>\n",
       "      <td>3</td>\n",
       "      <td>1</td>\n",
       "      <td>3</td>\n",
       "      <td>Heikkinen, Miss. Laina</td>\n",
       "      <td>female</td>\n",
       "      <td>26.0</td>\n",
       "      <td>0</td>\n",
       "      <td>0</td>\n",
       "      <td>STON/O2. 3101282</td>\n",
       "      <td>7.9250</td>\n",
       "      <td>NaN</td>\n",
       "      <td>S</td>\n",
       "    </tr>\n",
       "    <tr>\n",
       "      <th>3</th>\n",
       "      <td>4</td>\n",
       "      <td>1</td>\n",
       "      <td>1</td>\n",
       "      <td>Futrelle, Mrs. Jacques Heath (Lily May Peel)</td>\n",
       "      <td>female</td>\n",
       "      <td>35.0</td>\n",
       "      <td>1</td>\n",
       "      <td>0</td>\n",
       "      <td>113803</td>\n",
       "      <td>53.1000</td>\n",
       "      <td>C123</td>\n",
       "      <td>S</td>\n",
       "    </tr>\n",
       "    <tr>\n",
       "      <th>4</th>\n",
       "      <td>5</td>\n",
       "      <td>0</td>\n",
       "      <td>3</td>\n",
       "      <td>Allen, Mr. William Henry</td>\n",
       "      <td>male</td>\n",
       "      <td>35.0</td>\n",
       "      <td>0</td>\n",
       "      <td>0</td>\n",
       "      <td>373450</td>\n",
       "      <td>8.0500</td>\n",
       "      <td>NaN</td>\n",
       "      <td>S</td>\n",
       "    </tr>\n",
       "    <tr>\n",
       "      <th>...</th>\n",
       "      <td>...</td>\n",
       "      <td>...</td>\n",
       "      <td>...</td>\n",
       "      <td>...</td>\n",
       "      <td>...</td>\n",
       "      <td>...</td>\n",
       "      <td>...</td>\n",
       "      <td>...</td>\n",
       "      <td>...</td>\n",
       "      <td>...</td>\n",
       "      <td>...</td>\n",
       "      <td>...</td>\n",
       "    </tr>\n",
       "    <tr>\n",
       "      <th>886</th>\n",
       "      <td>887</td>\n",
       "      <td>0</td>\n",
       "      <td>2</td>\n",
       "      <td>Montvila, Rev. Juozas</td>\n",
       "      <td>male</td>\n",
       "      <td>27.0</td>\n",
       "      <td>0</td>\n",
       "      <td>0</td>\n",
       "      <td>211536</td>\n",
       "      <td>13.0000</td>\n",
       "      <td>NaN</td>\n",
       "      <td>S</td>\n",
       "    </tr>\n",
       "    <tr>\n",
       "      <th>887</th>\n",
       "      <td>888</td>\n",
       "      <td>1</td>\n",
       "      <td>1</td>\n",
       "      <td>Graham, Miss. Margaret Edith</td>\n",
       "      <td>female</td>\n",
       "      <td>19.0</td>\n",
       "      <td>0</td>\n",
       "      <td>0</td>\n",
       "      <td>112053</td>\n",
       "      <td>30.0000</td>\n",
       "      <td>B42</td>\n",
       "      <td>S</td>\n",
       "    </tr>\n",
       "    <tr>\n",
       "      <th>888</th>\n",
       "      <td>889</td>\n",
       "      <td>0</td>\n",
       "      <td>3</td>\n",
       "      <td>Johnston, Miss. Catherine Helen \"Carrie\"</td>\n",
       "      <td>female</td>\n",
       "      <td>NaN</td>\n",
       "      <td>1</td>\n",
       "      <td>2</td>\n",
       "      <td>W./C. 6607</td>\n",
       "      <td>23.4500</td>\n",
       "      <td>NaN</td>\n",
       "      <td>S</td>\n",
       "    </tr>\n",
       "    <tr>\n",
       "      <th>889</th>\n",
       "      <td>890</td>\n",
       "      <td>1</td>\n",
       "      <td>1</td>\n",
       "      <td>Behr, Mr. Karl Howell</td>\n",
       "      <td>male</td>\n",
       "      <td>26.0</td>\n",
       "      <td>0</td>\n",
       "      <td>0</td>\n",
       "      <td>111369</td>\n",
       "      <td>30.0000</td>\n",
       "      <td>C148</td>\n",
       "      <td>C</td>\n",
       "    </tr>\n",
       "    <tr>\n",
       "      <th>890</th>\n",
       "      <td>891</td>\n",
       "      <td>0</td>\n",
       "      <td>3</td>\n",
       "      <td>Dooley, Mr. Patrick</td>\n",
       "      <td>male</td>\n",
       "      <td>32.0</td>\n",
       "      <td>0</td>\n",
       "      <td>0</td>\n",
       "      <td>370376</td>\n",
       "      <td>7.7500</td>\n",
       "      <td>NaN</td>\n",
       "      <td>Q</td>\n",
       "    </tr>\n",
       "  </tbody>\n",
       "</table>\n",
       "<p>891 rows × 12 columns</p>\n",
       "</div>"
      ],
      "text/plain": [
       "     PassengerId  Survived  Pclass  \\\n",
       "0              1         0       3   \n",
       "1              2         1       1   \n",
       "2              3         1       3   \n",
       "3              4         1       1   \n",
       "4              5         0       3   \n",
       "..           ...       ...     ...   \n",
       "886          887         0       2   \n",
       "887          888         1       1   \n",
       "888          889         0       3   \n",
       "889          890         1       1   \n",
       "890          891         0       3   \n",
       "\n",
       "                                                  Name     Sex   Age  SibSp  \\\n",
       "0                              Braund, Mr. Owen Harris    male  22.0      1   \n",
       "1    Cumings, Mrs. John Bradley (Florence Briggs Th...  female  38.0      1   \n",
       "2                               Heikkinen, Miss. Laina  female  26.0      0   \n",
       "3         Futrelle, Mrs. Jacques Heath (Lily May Peel)  female  35.0      1   \n",
       "4                             Allen, Mr. William Henry    male  35.0      0   \n",
       "..                                                 ...     ...   ...    ...   \n",
       "886                              Montvila, Rev. Juozas    male  27.0      0   \n",
       "887                       Graham, Miss. Margaret Edith  female  19.0      0   \n",
       "888           Johnston, Miss. Catherine Helen \"Carrie\"  female   NaN      1   \n",
       "889                              Behr, Mr. Karl Howell    male  26.0      0   \n",
       "890                                Dooley, Mr. Patrick    male  32.0      0   \n",
       "\n",
       "     Parch            Ticket     Fare Cabin Embarked  \n",
       "0        0         A/5 21171   7.2500   NaN        S  \n",
       "1        0          PC 17599  71.2833   C85        C  \n",
       "2        0  STON/O2. 3101282   7.9250   NaN        S  \n",
       "3        0            113803  53.1000  C123        S  \n",
       "4        0            373450   8.0500   NaN        S  \n",
       "..     ...               ...      ...   ...      ...  \n",
       "886      0            211536  13.0000   NaN        S  \n",
       "887      0            112053  30.0000   B42        S  \n",
       "888      2        W./C. 6607  23.4500   NaN        S  \n",
       "889      0            111369  30.0000  C148        C  \n",
       "890      0            370376   7.7500   NaN        Q  \n",
       "\n",
       "[891 rows x 12 columns]"
      ]
     },
     "execution_count": 2,
     "metadata": {},
     "output_type": "execute_result"
    }
   ],
   "source": [
    "df"
   ]
  },
  {
   "cell_type": "markdown",
   "id": "962acd22-c7d7-4598-a0d6-15604c3e91b8",
   "metadata": {},
   "source": [
    "### 모집단 분포 확인\n",
    "Fare 컬럼에 대해서 히스토그램을 그려보면, 왼쪽으로 쏠린 분포를 갖는걸 확인할 수 있습니다."
   ]
  },
  {
   "cell_type": "code",
   "execution_count": 4,
   "id": "669f14c8-e87a-494e-8c07-63dd4b06a9ef",
   "metadata": {
    "tags": []
   },
   "outputs": [
    {
     "data": {
      "text/plain": [
       "<Axes: ylabel='Frequency'>"
      ]
     },
     "execution_count": 4,
     "metadata": {},
     "output_type": "execute_result"
    },
    {
     "data": {
      "image/png": "[encoded data removed]",
      "text/plain": [
       "<Figure size 640x480 with 1 Axes>"
      ]
     },
     "metadata": {},
     "output_type": "display_data"
    }
   ],
   "source": [
    "import numpy as np\n",
    "df[\"Fare\"].plot(kind=\"hist\", bins=np.arange(0,600,10))"
   ]
  },
  {
   "cell_type": "code",
   "execution_count": null,
   "id": "5159d5e0-8b2f-4f06-86e6-22a808b4f3c7",
   "metadata": {},
   "outputs": [],
   "source": []
  },
  {
   "cell_type": "markdown",
   "id": "c9ef9022-8c0f-43d7-829a-5f2094c386fa",
   "metadata": {},
   "source": [
    "### 모평균과 모표준편차 확인\n",
    "모평균은 32, 모표준편차는 49입니다."
   ]
  },
  {
   "cell_type": "code",
   "execution_count": 6,
   "id": "ec958864-7f45-46d0-8cb3-741be21a8d65",
   "metadata": {
    "tags": []
   },
   "outputs": [
    {
     "data": {
      "text/plain": [
       "count    891.000000\n",
       "mean      32.204208\n",
       "std       49.693429\n",
       "min        0.000000\n",
       "25%        7.910400\n",
       "50%       14.454200\n",
       "75%       31.000000\n",
       "max      512.329200\n",
       "Name: Fare, dtype: float64"
      ]
     },
     "execution_count": 6,
     "metadata": {},
     "output_type": "execute_result"
    }
   ],
   "source": [
    "df[\"Fare\"].describe()"
   ]
  },
  {
   "cell_type": "markdown",
   "id": "7fab91b7-3acc-4ecf-a097-0a09fdbe9d19",
   "metadata": {},
   "source": [
    "중심 극한 정리에 따르면 표본 평균은 평균이 32, 표준 편차가 49 / 샘플의 수의 제곱근인 정규 분포를 따라야 합니다. 한번 샘플의 수가 30이라고 가정하고, 표본 평균의 확률 밀도 함수(probaility density function, pdf)를 그려보겠습니다."
   ]
  },
  {
   "cell_type": "code",
   "execution_count": null,
   "id": "45e05de7-ea9c-49dc-b273-60fe9666c859",
   "metadata": {},
   "outputs": [],
   "source": []
  },
  {
   "cell_type": "code",
   "execution_count": 7,
   "id": "3bda6aab-fe5c-4a2c-ae4c-0bbe47a90b17",
   "metadata": {
    "tags": []
   },
   "outputs": [],
   "source": [
    "from scipy.stats import norm\n",
    "import math\n",
    "\n",
    "sample_size = 30\n",
    "sample_mean = 32.2\n",
    "sample_std = 49.7 / math.sqrt(sample_size)\n",
    "x = np.arange(0, 80, 1)\n",
    "pdf = norm.pdf(x, loc=sample_mean, scale=sample_std)"
   ]
  },
  {
   "cell_type": "code",
   "execution_count": 8,
   "id": "3d93f374-4eb4-43bb-918e-9f140c3e01d8",
   "metadata": {
    "tags": []
   },
   "outputs": [
    {
     "data": {
      "text/plain": [
       "[<matplotlib.lines.Line2D at 0x2665b076bd0>]"
      ]
     },
     "execution_count": 8,
     "metadata": {},
     "output_type": "execute_result"
    },
    {
     "data": {
      "image/png": "[encoded data removed]",
      "text/plain": [
       "<Figure size 640x480 with 1 Axes>"
      ]
     },
     "metadata": {},
     "output_type": "display_data"
    }
   ],
   "source": [
    "from matplotlib import pyplot as plt\n",
    "\n",
    "plt.plot(pdf, color=\"red\")"
   ]
  },
  {
   "cell_type": "markdown",
   "id": "6b82806a-148c-4f8f-9085-beb7d348889f",
   "metadata": {},
   "source": [
    "### 시뮬레이션\n",
    "실제로 표본을 추출해서 평균을 구하는 과정을 반복해서 표본 평균이 정규 분포를 따르는지 확인해봅니다."
   ]
  },
  {
   "cell_type": "code",
   "execution_count": 9,
   "id": "6b8e6638-f262-4237-bdb1-b2155a587ad5",
   "metadata": {
    "tags": []
   },
   "outputs": [],
   "source": [
    "def get_sample_mean(sample_size):\n",
    "    return df[\"Fare\"].sample(sample_size).mean()\n"
   ]
  },
  {
   "cell_type": "code",
   "execution_count": 18,
   "id": "f4f188f4-faba-4421-b9d0-0b959cab69da",
   "metadata": {
    "tags": []
   },
   "outputs": [],
   "source": [
    "num_trials = 10000  # 천,만 번 반복해서 샘플링 하겠다\n",
    "\n",
    "#sample_mean_list = [get_sample_mean(sample_size) for x in range(num_trials)]\n",
    "sample_mean_list = []\n",
    "for i in range(num_trials):\n",
    "    sample_mean = get_sample_mean(sample_size)\n",
    "    sample_mean_list.append(sample_mean)"
   ]
  },
  {
   "cell_type": "code",
   "execution_count": 19,
   "id": "7a379586-2176-4681-b1d6-31208918dad8",
   "metadata": {
    "tags": []
   },
   "outputs": [],
   "source": [
    "#sample_mean_list"
   ]
  },
  {
   "cell_type": "code",
   "execution_count": 22,
   "id": "95c71e4b-ecfa-46ee-b37c-022190b32f3e",
   "metadata": {
    "tags": []
   },
   "outputs": [
    {
     "name": "stderr",
     "output_type": "stream",
     "text": [
      "C:\\ProgramData\\anaconda3\\Lib\\site-packages\\seaborn\\axisgrid.py:118: UserWarning: The figure layout has changed to tight\n",
      "  self._figure.tight_layout(*args, **kwargs)\n"
     ]
    },
    {
     "data": {
      "text/plain": [
       "[<matplotlib.lines.Line2D at 0x2665bce7a10>]"
      ]
     },
     "execution_count": 22,
     "metadata": {},
     "output_type": "execute_result"
    },
    {
     "data": {
      "image/png": "[encoded data removed]",
      "text/plain": [
       "<Figure size 500x500 with 1 Axes>"
      ]
     },
     "metadata": {},
     "output_type": "display_data"
    }
   ],
   "source": [
    "import seaborn as sns\n",
    "\n",
    "sns.displot(\n",
    "    sample_mean_list,\n",
    "    stat=\"density\",    # y축을 cnt가 아니라 정규화 시키기\n",
    "    alpha=0.2,    # 막대 투명도\n",
    "    kde = True    # 선\n",
    ")\n",
    "\n",
    "plt.plot(pdf, color=\"red\")"
   ]
  },
  {
   "cell_type": "code",
   "execution_count": null,
   "id": "990439b3-c7d3-4b05-a69a-d68893588149",
   "metadata": {},
   "outputs": [],
   "source": [
    "## 왼쪽으로 쏠렸던 그래프가 표본을 뽑아서 돌려봤더니"
   ]
  },
  {
   "cell_type": "markdown",
   "id": "744ba9ae-4299-4bd9-8e67-5c35639d8289",
   "metadata": {},
   "source": [
    "### 중심 극한 정리의 의의\n",
    "중심 극한 정리는 통계적 추론에 핵심적인 역할을 합니다. 많은 통계적 추론 방법은 정규분포 가정에 기초하고 있으며, 중심 극한 정리는 이러한 가정의 타당성을 뒷받침해줍니다. 즉, 표본 평균이나 합 등이 정규분포에 근사하게 되면, 이를 통해 신뢰구간 추정, 가설 검정 등의 통계적 분석을 수행할 수 있게 됩니다."
   ]
  },
  {
   "cell_type": "code",
   "execution_count": null,
   "id": "711fe9b0-c0c0-4933-be94-3a81905e079f",
   "metadata": {},
   "outputs": [],
   "source": [
    "## 중심 극한 정리 - 면접 질문 => 정의해봐라, 해석해보기"
   ]
  },
  {
   "cell_type": "code",
   "execution_count": null,
   "id": "c481b4ac-bb9c-4b2a-8f4f-7f1bc386030d",
   "metadata": {},
   "outputs": [],
   "source": []
  }
 ],
 "metadata": {
  "kernelspec": {
   "display_name": "Python 3 (ipykernel)",
   "language": "python",
   "name": "python3"
  },
  "language_info": {
   "codemirror_mode": {
    "name": "ipython",
    "version": 3
   },
   "file_extension": ".py",
   "mimetype": "text/x-python",
   "name": "python",
   "nbconvert_exporter": "python",
   "pygments_lexer": "ipython3",
   "version": "3.11.5"
  }
 },
 "nbformat": 4,
 "nbformat_minor": 5
}
