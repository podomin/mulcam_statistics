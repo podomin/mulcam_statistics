{
 "cells": [
  {
   "cell_type": "code",
   "execution_count": 1,
   "id": "014e70cb-d1ff-45f7-9cc7-fe94441630c5",
   "metadata": {
    "tags": []
   },
   "outputs": [],
   "source": [
    "## 통계를 바라보는 가장 중요한 2가지 => 빈도주의자 frequentist & 사전 확률과 사후 확률을 계속 갱신해나가는 베이지안"
   ]
  },
  {
   "cell_type": "markdown",
   "id": "6fb6e1ef-fbd1-4bed-90de-7bbc3ea30bdd",
   "metadata": {
    "tags": []
   },
   "source": [
    "# ch16. Bays Theorem (베이지 정리)\n",
    "\n",
    "## 확률론 복습\n",
    "### 조건부 확률\n",
    "\n",
    "어떤 상황이 조건으로 걸려 있는 확률을 조건 확률(conditional probability)이라고 부른다.\n",
    "\n",
    "$$\n",
    "P(A|B)=\\frac{P(A \\cap B)}{P(B)}\\newline\n",
    "$$\n",
    "\n",
    "예제)\n",
    "\n",
    "아래 표를 보고 여학생 중 전문직으로 취업할 확률을 구하라\n",
    "\n",
    "|  | 일반직 | 전문직 | 대학원 | 미결정 | 합 |\n",
    "| --- | --- | --- | --- | --- | --- |\n",
    "| 남학생 | 0.35 | 0.08 | 0.09 | 0.06 | 0.58 |\n",
    "| 여학생 | 0.25 | 0.07 | 0.08 | 0.02 | 0.42 |\n",
    "| 합|0.6 | 0.15 | 0.17 | 0.08 |  1|\n",
    "\n",
    "$$\n",
    "P(전문직|여학생)=\\frac{P(\\text{전문직} \\cap \\text{여학생})}{P(\\text{여학생})}\\;=\\;\\frac{0.07}{0.42}=0.167\n",
    "$$"
   ]
  },
  {
   "cell_type": "code",
   "execution_count": 2,
   "id": "6e5d4203-feb4-4463-ac23-ee2d5987a754",
   "metadata": {
    "tags": []
   },
   "outputs": [],
   "source": [
    "## b가 발생했다고 가정하고 a와b가 함께 발생할 확률\n",
    "## 사람 뽑았는데 여학생이라고 쳤을 때 전문직으로 취업할 확률"
   ]
  },
  {
   "cell_type": "markdown",
   "id": "564a250d-2aa4-4747-9e2e-a192085f40e2",
   "metadata": {},
   "source": [
    "### 독립사건과 종속 사건\n",
    "\n",
    "어떤 사건이 다른 사건과 일어나는 확률이 무관할 때, 두 사건을 독립 사건(independent events)이라고 부른다.\n",
    "\n",
    "ex) 동전의 앞뒷면이 나오는 것과 주사위를 던져서 특정 값이 나오는 것\n",
    "\n",
    "$$\n",
    "P(A|B) = P(A)\\newline\n",
    "$$\n",
    "\n",
    "독립 사건과 달리, 서로 일어날 확률이 연관되어 있는 사건을 종속 사건이라고 부른다. (dependent events)\n",
    "\n",
    "예제) \n",
    "\n",
    "졸업생의 취업 형태는 남학생과 여학생이 다른 형태를 보여준다. 즉, 졸업생의 성별과 직장의 형태는 독립이 아니다.\n",
    "\n",
    "$$\n",
    "P(전문직|여학생)=0.167 \\neq P(전문직)=0.15\n",
    "$$"
   ]
  },
  {
   "cell_type": "code",
   "execution_count": 3,
   "id": "07bb418d-a8c7-4cc6-a3c4-87b5acea4d93",
   "metadata": {
    "tags": []
   },
   "outputs": [],
   "source": [
    "## "
   ]
  },
  {
   "cell_type": "markdown",
   "id": "2ad9e124-a20e-4695-94c8-a1d0563b396e",
   "metadata": {},
   "source": [
    "## 베이즈 정리\n",
    "\n",
    "$$P(H|E)=\\frac{P(E|H)P(H)}{P(E)}=\\frac{P(E|H)P(H)}{P(E|H)P(H)+P(E|H^c)P(H^c)}$$\n",
    "\n",
    "$$\\text{H: Hypothesis, 어떤 사건이 발생했다는 주장}$$\n",
    "\n",
    "$$\\text{E: Evidence, 새로운 정보}$$\n",
    "\n",
    "$$P(H):\\text{어떤 사건이 발생했다는 주장에 대한 신뢰도, 사전 확률}$$\n",
    "\n",
    "$$P(H|E):\\text{새로운 정보를 받은 후 갱신된 신뢰도, 사후 확률}$$\n",
    "\n",
    "P(H)는 이미 주어진 사전확률, P(H|E)를 사후 확률이라고 부릅니다. 베이즈 정리는 한마디로 정의하면 (prior)사전 확률과 (posterior)사후 확률의 관계에 대한 정리입니다. 즉, 베이즈 정리가 말하고 싶은 것은 불확실성이 포함된 사전 확률을, 새로운 정보를 추가하여 갱신하는 것입니다. "
   ]
  },
  {
   "cell_type": "code",
   "execution_count": 4,
   "id": "73774219-f590-4962-8563-8a24af142b16",
   "metadata": {
    "tags": []
   },
   "outputs": [],
   "source": [
    "## 예) 친구가 지각하다가 (사전 확률), 제시간에 온 사건이 발생했을 때 다음에도 제시간이 올지는 (사후 확률)\n",
    "# 어떤 사건이 발생했을 때 새로 갱신된 값 = 사후\n",
    "# 베이지 정리 = 사전 사후 확률의 관계를 정리한 것 "
   ]
  },
  {
   "cell_type": "code",
   "execution_count": null,
   "id": "7bbdeba8-25ea-4adb-b05e-c600d855a137",
   "metadata": {},
   "outputs": [],
   "source": []
  },
  {
   "cell_type": "markdown",
   "id": "f5463cf4-da74-44d5-af50-1dae4443b4c9",
   "metadata": {},
   "source": [
    "### 연역적 추론과 귀납적 추론\n",
    "베이즈 정리를 쉽게 이해하기 위해서는 확률에 대한 관점의 변화가 필요합니다.\n",
    "\n",
    "- 빈도주의(frequentism)\n",
    "    - 확률을 무수히 많은 시행을 반복했을 때, 특정 사건이 일어나는 상대적 비율은 어떤 값으로 수렴해 간다고 해석\n",
    "    - 대부분의 확률론과 통계학을 지배하는 관점\n",
    "- 베이지안 주의(Bayesianism)\n",
    "    - 확률을 어떤 주장에 대한 신뢰도로 해석\n",
    "\n",
    "ex) 동전의 앞면이 나올 확률은 50%이다.\n",
    "- 빈도주의: 100번 동전을 던졌을 때, 50번은 앞면이 나온다.\n",
    "- 베이지안 주의: 동전의 앞면이 나왔다는 주장은 신뢰도가 50%이다."
   ]
  },
  {
   "cell_type": "markdown",
   "id": "af6b60a0-b1a7-4d88-8123-54a19ba07566",
   "metadata": {
    "jp-MarkdownHeadingCollapsed": true,
    "tags": []
   },
   "source": [
    "### 연역과 귀납\n",
    "- 연역: 이미 알고 있는 판단을 근거로 새로운 판단을 유도하는 추론\n",
    "- 귀납: 전제가 결론을 개연적으로 뒷받침하는 경우로 확률적 설명이라고도 봄. 개별적인 특수한 사실이나 현상에서 그러한 사례들이 포함되는 일반적인 결론을 이끌어내는 추론 형식 · 추리 방법\n",
    "\n",
    "이 관점에서 기존의 빈도주의 통계학은 연역적 사고에 기반합니다. 엄격한 확률 공간을 정의하거나 집단의 분포를 정의하고, 여기서 파생되는 결과들을 수용합니다. 유의성 검정이 대표적인 사례입니다.\n",
    "\n",
    "반면에 베이즈 주의는 귀납적 사고에 기반합니다. 추가되는 정보를 바탕으로 기존에 알려져 있던 사전 확률을 갱신합니다. 즉, 새로운 증거들을 확보해서 진리에 다가갈 수 있다고 믿는 관점입니다."
   ]
  },
  {
   "cell_type": "markdown",
   "id": "d5cfbf4b-f8fd-46fa-9df1-fe29b36537de",
   "metadata": {},
   "source": [
    "## 베이즈 정리 예제\n",
    "\n",
    "*Q1. 질병 A의 발병률은 0.1%로 알려져있다. 이 질병이 실제로 있을 때 질병이 있다고 검진할 확률는 99%, 질병이 없을 때, 실제로 질병이 없다고 검진할 확률은 98%라고 하자. 만약 어떤 사람이 질병에 걸렸다는 검진을 받았을 때, 이 사람이 정말로 질병에 걸렸을 확률은 어떻게 되는가?*\n",
    "\n",
    "\n",
    "\n",
    "$$P(H)=\\text{질병에 걸릴 확률}=0.001$$\n",
    "\n",
    "$$P(E)=\\text{검진에서 양성을 받을 확률}$$\n",
    "\n",
    "$$P(E|H)=\\text{질병에 걸렸을 때, 양성일 확률}=0.99$$\n",
    "\n",
    "$$P(E^c|H^c)=\\text{질병에 걸리지 않았을 때, 음성일 확률}=0.98$$\n",
    "\n",
    "$$P(E|H^c)=\\text{질병에 걸리지 않았을 때, 양성일 확률}=1-0.98=0.02$$\n",
    "\n",
    "|  | 질병에 걸림(0.001) | 질병에 걸리지 않음(0.999) |\n",
    "| --- | --- | --- |\n",
    "| 양성 | 0.99 | 0.02 |\n",
    "| 음성 | 0.01 | 0.98 |"
   ]
  },
  {
   "cell_type": "markdown",
   "id": "1d021097-c362-4a5c-b164-8c9358a17054",
   "metadata": {},
   "source": [
    "문제에서 물어보는 것은 양성을 진단 받은 새로운 사건이 발생했을 때, 실제로 질병에 걸렸을 사후 확률을 물어보는 것입니다. 베이즈 정리를 이용해서 사후 확률을 계산해보겠습니다.\n",
    "\n",
    "\n",
    "$$P(H|E)=\\frac{P(E|H)P(H)}{P(E)}=\\frac{P(E|H)P(H)}{P(E|H)P(H)+P(E|H^c)P(H^c)}=\\frac{0.99*0.001}{0.99*0.001+0.02*0.999}\\approx0.047$$"
   ]
  },
  {
   "cell_type": "code",
   "execution_count": null,
   "id": "7c3ea77b-9c85-404d-b827-01177e420191",
   "metadata": {},
   "outputs": [],
   "source": []
  },
  {
   "cell_type": "markdown",
   "id": "18244c03-f88f-48e9-8150-af6261c8bf64",
   "metadata": {},
   "source": [
    "*Q2. 한번 양성 판정을 받았던 사람이 두 번째 검진을 받고 또 양성 판정을 받았을 때, 실제로 질병에 걸렸을 확률은 어떻게 되는가?*\n",
    "\n",
    "한번 양성 판정을 받은 사람이 다시 양성 판정을 받았을 때, 실제로 질병에 걸렸을 확률을 계산해야합니다. 이는 이전 문제에서 사후 확률로 계산한 0.047을 사전 확률로 사용해야 함을 의미합니다. 즉, 증거를 통해서 사전 확률의 신뢰도를 갱신한 것입니다. 0.047을 사전 확률로 사용하여 확률을 계산해보겠습니다.\n",
    "\n",
    "$$P(H|E)=\\frac{P(E|H)P(H)}{P(E|H)P(H)+P(E|H^c)P(H^c)}=\\frac{0.99*0.047}{0.99*0.047+0.02*0.953}\\approx0.709$$\n",
    "\n",
    "한번 양성 판정을 받은 사람이 또 양성 판정을 받을 경우, 실제로 질병에 걸렸을 확률이 70.9%로 대폭 증가하였습니다."
   ]
  },
  {
   "cell_type": "code",
   "execution_count": null,
   "id": "7304e1eb-cb19-4fcc-ad08-1e0d454a3c0a",
   "metadata": {},
   "outputs": [],
   "source": []
  },
  {
   "cell_type": "markdown",
   "id": "aea07dba-6770-4ad2-ad8c-977293c77a46",
   "metadata": {},
   "source": [
    "## 연습 문제\n",
    "\n",
    "*Q1. B씨가 A씨를 좋아할 확률은 0.5라고 가정하겠습니다. 좋아할 경우 생일 선물을 주는 확률은 0.6, 좋아하지 않는데 생일 선물을 줄 확률은 0.3이라고 가정하겠습니다. A씨의 생일에 B씨가 선물을 줬을 때, B씨가 A씨를 좋아할 확률은 어떻게 될까요?*"
   ]
  },
  {
   "cell_type": "markdown",
   "id": "37826b0e-1c6f-4270-8bae-04745f42cc8f",
   "metadata": {},
   "source": [
    "$$P(L)=\\text{좋아할 확률}=0.5$$\n",
    "\n",
    "$$P(G)=\\text{선물 줄 확률}$$\n",
    "\n",
    "$$P(G|L)=\\text{좋아할 때, 선물 줄 확률}=0.6$$\n",
    "\n",
    "$$P(G|L^c)=\\text{좋아하지 않을 때, 선물 줄 확률}=0.3$$"
   ]
  },
  {
   "cell_type": "markdown",
   "id": "4d5fee61-5d12-4f55-a7d6-cbf24d9a5b07",
   "metadata": {},
   "source": [
    "B가 선물을 줬을 때 A씨를 좋아할 확률은?"
   ]
  },
  {
   "cell_type": "markdown",
   "id": "ebff0eac-a871-4a21-afad-8e995c4ec18d",
   "metadata": {
    "tags": []
   },
   "source": [
    "$$P(L|G)=\\frac{P(G|L)P(L)}{P(G)}=\\frac{P(G|L)P(L)}{P(G|L)P(L)+P(G|L^c)P(L^c)}=\\frac{0.5*0.6}{0.5*0.6+0.5*0.3}\\approx0.6666...$$"
   ]
  },
  {
   "cell_type": "code",
   "execution_count": null,
   "id": "44e04e19-fe1b-4191-a8a1-9273c0f55c99",
   "metadata": {},
   "outputs": [],
   "source": []
  },
  {
   "cell_type": "markdown",
   "id": "87c8ab4c-2b5b-4d10-b47f-e4c84c738971",
   "metadata": {},
   "source": [
    "*Q2. 생일 선물을 받았음에도 A씨는 그저 동료니까 줬을거라 생각했습니다. 그런데 이번엔 크리스마스에 B씨가 선물을 보냈습니다. 좋아할 경우 선물을 주는 확률은 0.6, 좋아하지 않을 경우 선물을 줄 확률은 0.3입니다. B씨가 A씨를 좋아할 확률은 어떻게 될까요?*"
   ]
  },
  {
   "cell_type": "markdown",
   "id": "0b3e3072-3cfa-4577-bf03-1bcd66775c6f",
   "metadata": {},
   "source": [
    "B가 A에게 또 다시 선물을 줬을 때 B가 A를 좋아할 확률은?"
   ]
  },
  {
   "cell_type": "markdown",
   "id": "e2283d76-ae5e-420f-b9f4-dfdc52e8f844",
   "metadata": {},
   "source": [
    "$$P(L|G)=\\frac{P(G|L)P(L)}{P(G)}=\\frac{P(G|L)P(L)}{P(G|L)P(L)+P(G|L^c)P(L^c)}=\\frac{0.67*0.6}{0.67*0.6+0.33*0.3}\\approx0.804$$"
   ]
  },
  {
   "cell_type": "code",
   "execution_count": null,
   "id": "2adf18b8-5700-47f5-a83d-dbef3fa29efd",
   "metadata": {},
   "outputs": [],
   "source": []
  }
 ],
 "metadata": {
  "kernelspec": {
   "display_name": "Python 3 (ipykernel)",
   "language": "python",
   "name": "python3"
  },
  "language_info": {
   "codemirror_mode": {
    "name": "ipython",
    "version": 3
   },
   "file_extension": ".py",
   "mimetype": "text/x-python",
   "name": "python",
   "nbconvert_exporter": "python",
   "pygments_lexer": "ipython3",
   "version": "3.11.5"
  }
 },
 "nbformat": 4,
 "nbformat_minor": 5
}
