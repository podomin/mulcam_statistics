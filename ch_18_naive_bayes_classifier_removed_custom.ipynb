{
 "cells": [
  {
   "cell_type": "markdown",
   "id": "00c37c47-bf21-4261-a826-10d52aad36db",
   "metadata": {},
   "source": [
    "# ch 18. Naive Bayes Classifier\n",
    "\n",
    "naive bayes classifier는 베이즈 정리를 사용한 가장 기본적인 텍스트 분류 기법입니다. 이번 챕터에서는 naive bayes의 기본 동작 원리를 살펴보고, 네이버 영화 리뷰 데이터 셋을 이용하여 직접 텍스트 분류 모델을 학습시켜 보겠습니다."
   ]
  },
  {
   "cell_type": "code",
   "execution_count": 1,
   "id": "30249b38-6a34-4bb2-87c9-b95891f44b78",
   "metadata": {
    "tags": []
   },
   "outputs": [],
   "source": [
    "## 구글 스팸 메일 분류하는 데 사용한 초기 모델이었음\n",
    "## 데이터가 쌓일수록 정확도가 갱신됨"
   ]
  },
  {
   "cell_type": "markdown",
   "id": "2aa0f3c6-4b31-447f-b6e6-71da1ea46d9a",
   "metadata": {},
   "source": [
    "## 베이즈 정리 복습\n",
    "\n",
    "베이즈 정리는 사전 확률과 사후 확률의 관계에 대한 정리라고 하였습니다. 새로운 증거를 확보하여 사전 확률을 더 신뢰도있게 갱신시키는 것이 베이즈 정리의 핵심이었습니다.\n",
    "\n",
    "$$P(H|E)=\\frac{P(E|H)P(H)}{P(E)}$$\n",
    "\n",
    "$$\\text{H: Hypothesis, 어떤 사건이 발생했다는 주장}$$\n",
    "\n",
    "$$\\text{E: Evidence, 새로운 정보}$$\n",
    "\n",
    "$$P(H):\\text{어떤 사건이 발생했다는 주장에 대한 신뢰도, 사전 확률}$$\n",
    "\n",
    "$$P(H|E):\\text{새로운 정보를 받은 후 갱신된 신뢰도, 사후 확률}$$"
   ]
  },
  {
   "cell_type": "markdown",
   "id": "0cd179a8-d367-4b6a-a2ae-996a9ed37d45",
   "metadata": {},
   "source": [
    "## Naive Bayes Classifier\n",
    "\n",
    "Naive Bayes는 베이즈 정리를 이용해서 데이터를 분류하는 모델입니다. 여기서는 텍스트의 종류를 분류하는데 적용해보겠습니다.\n",
    "\n",
    "먼저 영화 리뷰 텍스트를 보고, 긍정적인 리뷰인지, 부정적인 리뷰인지 분류하고 싶다고 가정하겠습니다. 즉, 영화 리뷰가 주어졌을 때, 이 리뷰가 긍정적인 리뷰일 확률이 궁금합니다. 먼저 하나의 리뷰는 document, 하나의 document는 토큰들의 시퀀스로 표현하겠습니다. \n",
    "\n",
    "$$d=(x_{1}, x_{2}, ..., x_{n})$$"
   ]
  },
  {
   "cell_type": "markdown",
   "id": "e287a926-2413-4810-be23-67f4f2deb50c",
   "metadata": {},
   "source": [
    "우리가 구하고 싶은 건 리뷰 텍스트가 주어졌을 때, 이 리뷰가 긍정적인 리뷰일 확률입니다. 베이즈 정리를 이용해서 표현하면 아래와 같습니다.\n",
    "\n",
    "\n",
    "$$P(pos|d)=\\frac{P(d|pos)P(pos)}{P(d)}=\\frac{P(d|pos)P(pos)}{P(d|pos)P(pos)+P(d|neg)P(neg)}$$\n"
   ]
  },
  {
   "cell_type": "code",
   "execution_count": 2,
   "id": "8a2e8c64-0870-4e5a-9442-b220d892ecd4",
   "metadata": {
    "tags": []
   },
   "outputs": [],
   "source": [
    "## p(d)  특정한 도큐먼트가 등장할 확률  -> 쪼개보면 -> 긍정적, 부정적 리뷰 비율 \n",
    "## (긍정적 리뷰 중에서 d(토큰)이 등장할 확률)  /  (긍정적 리뷰 중에서 d(토큰)이 등장할 확률) + (부정적 리뷰 중에서 d(토큰)이 등장할 확률)\n",
    "## 알고 싶은 건 리뷰가 하나 주어졌을 때 긍정인지 부정인지 알고 싶은 거임"
   ]
  },
  {
   "cell_type": "markdown",
   "id": "21cc4a94-f5a2-4076-9954-b4ec119af4bf",
   "metadata": {},
   "source": [
    "여기서 P(pos)와 P(neg)는 사전 확률로 이미 우리가 알고 있다고 가정하겠습니다. 문서가 주어졌을 때, 이 문서가 긍정일 확률은 사후 확률에 해당합니다. 이를 알기 위해서는 P(d|pos)와 P(d|neg)를 계산해야합니다. 이를 몇가지 가정을 통해 계산하는 모델이 Naive Bayes 입니다."
   ]
  },
  {
   "cell_type": "code",
   "execution_count": null,
   "id": "57a07356-4f9a-4b25-9bbb-44c9517d7395",
   "metadata": {},
   "outputs": [],
   "source": [
    "## 데이터 0 부정, 1 긍정"
   ]
  },
  {
   "cell_type": "code",
   "execution_count": 3,
   "id": "965119dd-480b-4a9e-ac1e-1e8edea9e9e3",
   "metadata": {
    "tags": []
   },
   "outputs": [],
   "source": [
    "## P(d|pos) : 긍정적일 때 특정 리뷰가 등장할 확률"
   ]
  },
  {
   "cell_type": "markdown",
   "id": "9c16b5e0-07fb-41a8-9b16-b613276e47b1",
   "metadata": {},
   "source": [
    "### Naive Bays 가정\n",
    "naive bayes 몇 가지 가정을 통해 아주 간단하게 조건부 확률을 계산합니다.  \n",
    "\n",
    "1. 문서 내에서 특정 토큰이 등장하는 위치는 신경쓰지 않는다. 오로지 등장 여부만 신경쓴다.(Bag of Words assumption)\n",
    "2. 문서 내에 특정 토큰이 등장하는 사건은 서로 독립이다.(Conditional Independence) 토큰 간에 연관성은 신경쓰지 않겠다. \n",
    "\n",
    "이 가정을 적용하면 아래와 같은 수식을 작성할 수 있습니다.  \n",
    "\n",
    "$$P(d|pos)$$\n",
    "\n",
    "$$=P(x_{1},x_{2},...,x_{n}|pos)$$\n",
    "\n",
    "$$=P(x_{1} \\cap x_{2} \\cap ... \\cap x_{n}|pos)$$\n",
    "\n",
    "$$=P(x_{1}|pos)*P(x_{2}|pos)*...*P(x_{n}|pos)$$"
   ]
  },
  {
   "cell_type": "markdown",
   "id": "1ee711cc-6814-45b6-80e4-afe885b97e50",
   "metadata": {},
   "source": [
    "모든 사건들이 독립이라는 것을 가정하기 때문에 이름에 Naive(순진한)이 붙은 겁니다. 이를 이용하여 사후 확률 값을 계산하고, 사후 확률이 가장 높은 클래스를 선택하는 것이 naive bayes classifier입니다. 이를 수식으로 나타내면 아래와 같습니다.\n",
    "\n",
    "$$\\hat{y}=\\underset{y}{argmax}P(y)\\prod_{i=1}^{n}P(x_{i}|y)$$"
   ]
  },
  {
   "cell_type": "markdown",
   "id": "44cee469-ee92-42e1-83b3-fcf0813799fa",
   "metadata": {},
   "source": [
    "## 예제\n",
    "\n",
    "### 데이터 셋 준비\n",
    "실제 데이터를 살펴보면서 naive bayes 알고리즘을 이해해보겠습니다. 아래와 같이 데이터 셋이 주어졌다고 해보겠습니다."
   ]
  },
  {
   "cell_type": "code",
   "execution_count": 8,
   "id": "20796fb3-bdec-41d3-a1a0-6e4bcbd484e7",
   "metadata": {},
   "outputs": [],
   "source": [
    "data = [\n",
    "    (\"This movie was awesome! I really enjoyed it.\", 1),\n",
    "    (\"This movie is just a masterpiece.\", 1),\n",
    "    (\"This movie was boring and waste of time.\", 0),\n",
    "    (\"shit, it sucks. I was almost sleeping\", 0),\n",
    "]"
   ]
  },
  {
   "cell_type": "markdown",
   "id": "ffc7c5e3-0cb1-40a0-8c90-17bac4b4b819",
   "metadata": {},
   "source": [
    "각 문장을 토큰화 하고, 각 단어별로 긍정일 때 등장할 조건부 확률, 부정일 때 등장할 조건부 확률을 집계해보겠습니다."
   ]
  },
  {
   "cell_type": "code",
   "execution_count": 4,
   "id": "6332ddfb-19e7-4c93-b3bf-da90484bcc04",
   "metadata": {},
   "outputs": [],
   "source": [
    "from nltk.tokenize import WordPunctTokenizer\n",
    "from collections import Counter\n",
    "\n",
    "tokenizer = WordPunctTokenizer()\n",
    "pos_counter = Counter()  # 긍정일 때\n",
    "neg_counter = Counter()  # 부정일 때"
   ]
  },
  {
   "cell_type": "code",
   "execution_count": 9,
   "id": "ded1585b-1723-4637-a32e-ce3d9899feb7",
   "metadata": {
    "tags": []
   },
   "outputs": [],
   "source": [
    "for review, label in data:\n",
    "    tokens = tokenizer.tokenize(review.lower())\n",
    "    if label == 0:\n",
    "        neg_counter += Counter(tokens)\n",
    "    else:\n",
    "        pos_counter += Counter(tokens)"
   ]
  },
  {
   "cell_type": "code",
   "execution_count": 10,
   "id": "3b6b320f-083d-4dac-928d-2472faa28be6",
   "metadata": {
    "tags": []
   },
   "outputs": [
    {
     "name": "stdout",
     "output_type": "stream",
     "text": [
      "Counter({'this': 2, 'movie': 2, '.': 2, 'was': 1, 'awesome': 1, '!': 1, 'i': 1, 'really': 1, 'enjoyed': 1, 'it': 1, 'is': 1, 'just': 1, 'a': 1, 'masterpiece': 1})\n"
     ]
    }
   ],
   "source": [
    "  print(pos_counter)"
   ]
  },
  {
   "cell_type": "code",
   "execution_count": 11,
   "id": "3a94c002-3890-4a54-9158-094feb2832b0",
   "metadata": {
    "tags": []
   },
   "outputs": [
    {
     "name": "stdout",
     "output_type": "stream",
     "text": [
      "Counter({'was': 2, '.': 2, 'this': 1, 'movie': 1, 'boring': 1, 'and': 1, 'waste': 1, 'of': 1, 'time': 1, 'shit': 1, ',': 1, 'it': 1, 'sucks': 1, 'i': 1, 'almost': 1, 'sleeping': 1})\n"
     ]
    }
   ],
   "source": [
    "  print(neg_counter)"
   ]
  },
  {
   "cell_type": "code",
   "execution_count": 12,
   "id": "561293d9-7be4-41ce-9791-ef573c1e0c30",
   "metadata": {
    "tags": []
   },
   "outputs": [],
   "source": [
    "pos_total_cnt = sum(pos_counter.values())\n",
    "pos_vocabs = len(pos_counter.keys())        # 유니크한 토큰 개수\n",
    "neg_total_cnt = sum(neg_counter.values())\n",
    "neg_vocabs = len(neg_counter.keys())"
   ]
  },
  {
   "cell_type": "code",
   "execution_count": 13,
   "id": "d7979821-8f81-4f73-8ca9-37528dcaaa82",
   "metadata": {
    "tags": []
   },
   "outputs": [
    {
     "data": {
      "text/plain": [
       "(17, 14)"
      ]
     },
     "execution_count": 13,
     "metadata": {},
     "output_type": "execute_result"
    }
   ],
   "source": [
    "pos_total_cnt, pos_vocabs"
   ]
  },
  {
   "cell_type": "code",
   "execution_count": 14,
   "id": "93ce21a8-9b57-48ad-a46b-94d68a1698a2",
   "metadata": {
    "tags": []
   },
   "outputs": [
    {
     "data": {
      "text/plain": [
       "(18, 16)"
      ]
     },
     "execution_count": 14,
     "metadata": {},
     "output_type": "execute_result"
    }
   ],
   "source": [
    "neg_total_cnt, neg_vocabs"
   ]
  },
  {
   "cell_type": "markdown",
   "id": "75e30ea0-b3eb-4ffa-bb6a-b911162e96a7",
   "metadata": {},
   "source": [
    "### 사전 확률\n",
    "리뷰가 긍정일 사전확률과 부정일 사전 확률은 아래와 같습니다.\n",
    "\n",
    "$$P(pos)=0.5$$\n",
    "\n",
    "$$P(neg)=0.5$$"
   ]
  },
  {
   "cell_type": "markdown",
   "id": "4d08cc4a-54ba-417f-a1ce-8208048a5464",
   "metadata": {},
   "source": [
    "### 조건부 확률 계산\n",
    "긍정일 때 특정 단어가 등장할 확률은 아래와 같습니다. 부정일 때는 positive를 negative로만 바꿔주면 됩니다. \n",
    "\n",
    "한번도 등장하지 않은 단어가 주어졌을 때, 확률값이 0이 되어 전체 확률을 0으로 만들어버리는 현상을 방지하기 위해 분자에 1을 더해주고, 분모에는 전체 어휘의 수를 더해줍니다. 마치 모든 단어를 포함하는 문서가 하나 추가되었다고 생각하면 됩니다. 이러한 기법을 additive smoothing 혹은 laplace smoothing이라고 부릅니다.\n",
    "\n",
    "additive smoothing: https://en.wikipedia.org/wiki/Additive_smoothing"
   ]
  },
  {
   "cell_type": "markdown",
   "id": "83124d5a-f2a9-4854-9589-b5abb6df729b",
   "metadata": {},
   "source": [
    "$$P(w|pos)=\\frac{count(w, pos)+1}{\\sum_{w \\in V}count(w, pos)+V}$$"
   ]
  },
  {
   "cell_type": "code",
   "execution_count": 15,
   "id": "39fe95f2-c3bd-4cb5-b5af-56f96c618796",
   "metadata": {
    "tags": []
   },
   "outputs": [
    {
     "name": "stdout",
     "output_type": "stream",
     "text": [
      "Counter({'this': 2, 'movie': 2, '.': 2, 'was': 1, 'awesome': 1, '!': 1, 'i': 1, 'really': 1, 'enjoyed': 1, 'it': 1, 'is': 1, 'just': 1, 'a': 1, 'masterpiece': 1})\n"
     ]
    }
   ],
   "source": [
    "  print(pos_counter)"
   ]
  },
  {
   "cell_type": "code",
   "execution_count": null,
   "id": "8b20aac0-526a-4b69-8708-2f9cdbb52704",
   "metadata": {},
   "outputs": [],
   "source": [
    "## 분자에 1 더해주고 (새롬게 등장한 토큰이 있으면 0이 나올 수 있는데 이러면 수식에 모든 걸 곱하기 할 때 0이 될 수 있음) 0이 되는 것 방지지\n",
    "## 분모에 전체 횟수 더하기 유니크한 토큰의 수 더해주기 "
   ]
  },
  {
   "cell_type": "markdown",
   "id": "59a4c2eb-9072-4d61-9872-e8e10f1b74b6",
   "metadata": {},
   "source": [
    "예를들어 긍정일 때, this라는 단어가 등장할 확률을 계산해보겠습니다.\n",
    "\n",
    "$$P(\\text{\"this\"}|pos)=\\frac{2+1}{17+14}=0.0967$$\n",
    "\n",
    "부정일 때, this라는 단어가 등장할 확률은 아래와 같습니다.\n",
    "\n",
    "$$P(\\text{\"this\"}|neg)=\\frac{1+1}{18+16}=0.08$$"
   ]
  },
  {
   "cell_type": "markdown",
   "id": "0128e558-81ff-4944-8cb9-7d8a676ee715",
   "metadata": {},
   "source": [
    "리뷰에 단어들이 등장하는 사건을 모두 독립이라고 가정하면, 긍정일 때 특정 리뷰가 등장할 확률과 부정일 때, 특정 리뷰가 등장할 확률을 계산할 수 있습니다.\n",
    "\n",
    "$$P(d|pos)=P(\\text{\"this\"}|pos)*P(\\text{\"is\"}|pos)*...=7.69*10^{-9}$$"
   ]
  },
  {
   "cell_type": "markdown",
   "id": "9442e99c-b71c-42e6-bdae-163485e84de1",
   "metadata": {},
   "source": [
    "부정일 때도 마찬가지로 확률을 계산해주면 됩니다.\n",
    "\n",
    "$$P(d|neg)=P(\\text{\"this\"}|neg)*P(\\text{\"is\"}|neg)*...=1.43*10^{-10}$$"
   ]
  },
  {
   "cell_type": "code",
   "execution_count": 17,
   "id": "1c257eb4-abb7-4a63-a373-3dc95e7e9ce1",
   "metadata": {
    "tags": []
   },
   "outputs": [],
   "source": [
    "## 수식을 그대로 코드로 적어봄"
   ]
  },
  {
   "cell_type": "code",
   "execution_count": 16,
   "id": "e55082e8-8149-45d2-865e-5d5c08f925af",
   "metadata": {},
   "outputs": [
    {
     "name": "stdout",
     "output_type": "stream",
     "text": [
      "P(review|pos): 8.112642408296669e-08\n",
      "P(review|neg): 7.767973651364808e-09\n"
     ]
    }
   ],
   "source": [
    "tokens = tokenizer.tokenize(data[0][0].lower())\n",
    "tokens = ['this', 'movie', 'was', 'awesome', '!', 'amazing']\n",
    "\n",
    "pos_total_prob = 1\n",
    "neg_total_prob = 1\n",
    "for token in tokens:\n",
    "    pos_prob = (pos_counter[token] + 1) / (pos_total_cnt + pos_vocabs)\n",
    "    neg_prob = (neg_counter[token] + 1) / (neg_total_cnt + neg_vocabs)\n",
    "    pos_total_prob *= pos_prob\n",
    "    neg_total_prob *= neg_prob\n",
    "print(f\"P(review|pos): {pos_total_prob}\")\n",
    "print(f\"P(review|neg): {neg_total_prob}\")"
   ]
  },
  {
   "cell_type": "code",
   "execution_count": null,
   "id": "bc845db4-dc2d-4b8c-bf08-afd519a4bf24",
   "metadata": {},
   "outputs": [],
   "source": []
  },
  {
   "cell_type": "markdown",
   "id": "166b351c-30af-4162-997b-ad591ee964bc",
   "metadata": {},
   "source": [
    "### 사후 확률 계산\n",
    "\n",
    "이제 각 조건부 확률을 계산할 수 있으니, 사후 확률을 계산해보겠습니다. 리뷰가 주어졌을 때, 긍정일 확률을 베이즈 정리를 이용하여 표현하면 아래와 같습니다.\n",
    "\n",
    "\n",
    "$$P(pos|d)=\\frac{P(d|pos)P(pos)}{P(d)}=\\frac{P(d|pos)P(pos)}{P(d|pos)P(pos)+P(d|neg)P(neg)}$$"
   ]
  },
  {
   "cell_type": "code",
   "execution_count": 19,
   "id": "46a0561e-a4b1-4107-844c-06a7b1c33947",
   "metadata": {},
   "outputs": [
    {
     "name": "stdout",
     "output_type": "stream",
     "text": [
      "0.9943991077865111\n"
     ]
    }
   ],
   "source": [
    "pos_prior = 0.5  # data에 긍정 2개 부정 2개였기 때문에 0.5\n",
    "neg_prior = 0.5\n",
    "pos_posterior = (pos_total_prob * pos_prior) / (pos_total_prob * pos_prior + neg_total_prob * neg_prob)\n",
    "print(pos_posterior)"
   ]
  },
  {
   "cell_type": "markdown",
   "id": "f1b5a050-9496-4453-b63d-c2a97e60de4c",
   "metadata": {},
   "source": [
    "베이즈 정리를 이용해서 계산해보면 \"this is a materpiece! i really enjoyed\"라는 리뷰가 긍정일 확률은 98%였습니다."
   ]
  },
  {
   "cell_type": "code",
   "execution_count": 23,
   "id": "c3002620-3d04-4c15-b38d-fcb91453f98e",
   "metadata": {
    "tags": []
   },
   "outputs": [
    {
     "name": "stdout",
     "output_type": "stream",
     "text": [
      "0.9126157120206826\n"
     ]
    }
   ],
   "source": [
    "tokens = ['this', 'is', 'a', 'masterpiece', '!', 'i', 'really', 'enjoyed']\n",
    "pos_posteriorr = (pos_total_prob * pos_prior) / ((pos_total_prob * pos_prior) + (neg_total_prob * neg_prior))\n",
    "print(pos_posteriorr)"
   ]
  },
  {
   "cell_type": "code",
   "execution_count": null,
   "id": "b21b123d-9b37-434f-8e92-c58ffac971af",
   "metadata": {},
   "outputs": [],
   "source": []
  },
  {
   "cell_type": "code",
   "execution_count": null,
   "id": "46baafea-95d2-4900-afca-6421e821db41",
   "metadata": {},
   "outputs": [],
   "source": []
  },
  {
   "cell_type": "code",
   "execution_count": null,
   "id": "2352e025-ebba-410e-9c56-194c1efd2b71",
   "metadata": {},
   "outputs": [],
   "source": []
  },
  {
   "cell_type": "code",
   "execution_count": 24,
   "id": "7b0483e9-6884-4550-8136-81d6e3f31858",
   "metadata": {
    "tags": []
   },
   "outputs": [],
   "source": [
    "### 장점 : O1의 타이만으로도 인퍼런스가능 모델이 가볍고 엄청 빠르다"
   ]
  },
  {
   "cell_type": "markdown",
   "id": "1bc5beb8-6ad7-40e1-af97-e54d1055d7a6",
   "metadata": {
    "tags": []
   },
   "source": [
    "## Naive Bayes 한계\n",
    "\n",
    "Naive Bayes의 가정 때문에 문제가 한계가 있습니다. 먼저 토큰의 등장 위치는 중요합니다. 동일한 토큰일 지라도 앞 뒤에 어느 토큰이 오느냐에 따라서 의미가 달라질 수 있습니다. \n",
    "\n",
    "또한 각 토큰이 등장하는 사건은 독립 사건이 아닙니다. 앞에 어느 토큰이 오는지에 따라서 뒤에 어떤 토큰이 올지 결정되기도 합니다. 즉, 텍스트 데이터에서 각각의 토큰은 서로 연관이 있습니다.\n",
    "\n",
    "그럼에도 불구하고 Naive Bayes는 몹시 가볍고 단순하다는 장점이 있습니다. 때문에 스팸 필터, 텍스트 분류 등의 테스크에서 활용되는 알고리즘입니다."
   ]
  },
  {
   "cell_type": "code",
   "execution_count": 25,
   "id": "b3ea5bfb-5739-4226-bdd5-7d4105bcfd2b",
   "metadata": {
    "tags": []
   },
   "outputs": [],
   "source": [
    "## 현실에서 잘 사용하지 않음, 딥러닝 모델을 더 자주 씀"
   ]
  },
  {
   "cell_type": "markdown",
   "id": "27f28372-87fa-4f30-ace5-33ce6c27170d",
   "metadata": {},
   "source": [
    "## 정리\n",
    "\n",
    "이번 챕터에서는 베이즈 정리를 이용하여 텍스트를 분류하는 naive bayes classifier에 대해서 알아보았습니다. naive bayes는 굉장히 가벼우면서도 상당한 성능을 보여주어 실제로 간단한 테스크들에 사용되는 기법입니다. 또한 베이즈 정리 개념을 복습하기에도 매우 좋습니다. \n",
    "\n",
    "다음 챕터에서는 실제 네이버 영화 리뷰 데이터 셋을 가지고 리뷰가 긍정인지 부정인지 분류하는 모델을 학습시켜 보겠습니다."
   ]
  },
  {
   "cell_type": "code",
   "execution_count": null,
   "id": "9da26906-3d19-42bb-ade1-f539d2fbf2e8",
   "metadata": {},
   "outputs": [],
   "source": [
    "## 네이버 검색 쿼리만 보고 검색 결과 없는 쿼리의 트래픽 지워주기  ->  "
   ]
  },
  {
   "cell_type": "code",
   "execution_count": null,
   "id": "c961a101-185f-41a7-a88c-07c6bdd9702d",
   "metadata": {},
   "outputs": [],
   "source": []
  }
 ],
 "metadata": {
  "kernelspec": {
   "display_name": "Python 3 (ipykernel)",
   "language": "python",
   "name": "python3"
  },
  "language_info": {
   "codemirror_mode": {
    "name": "ipython",
    "version": 3
   },
   "file_extension": ".py",
   "mimetype": "text/x-python",
   "name": "python",
   "nbconvert_exporter": "python",
   "pygments_lexer": "ipython3",
   "version": "3.11.5"
  }
 },
 "nbformat": 4,
 "nbformat_minor": 5
}
